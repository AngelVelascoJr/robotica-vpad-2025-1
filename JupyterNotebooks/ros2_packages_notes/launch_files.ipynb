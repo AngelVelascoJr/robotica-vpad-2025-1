{
 "cells": [
  {
   "cell_type": "markdown",
   "metadata": {},
   "source": [
    "# Launch (.launch.xml) files "
   ]
  },
  {
   "cell_type": "markdown",
   "metadata": {},
   "source": [
    "## Content\n",
    "\n",
    "1. [Definition](#Definition)\n",
    "2. [.py launch file](#.py-launch-file)\n",
    "    1. [Gazebo](#gazebo)\n",
    "    2. [Rviz](#Rviz)\n",
    "    3. [RobotStatePublisher](#robot-state-publisher)\n",
    "    4. [SpawnEntity](#spawn-entity)\n",
    "    5. [Ros2 controllers](#ros2-controlers)\n",
    "    6. [Launch description](#launchdescription)\n"
   ]
  },
  {
   "cell_type": "markdown",
   "metadata": {},
   "source": [
    "## Definition\n",
    ".launch files are a special type of files used in ros2, they are used to load diferent type of nodes, comands and logic.\n",
    "\n",
    "As convention, launch files have the distinc name depending on the file format, the 2 I have used are:\n",
    "\n",
    " - *.launch.xml\n",
    " - *.launch.py "
   ]
  },
  {
   "cell_type": "markdown",
   "metadata": {},
   "source": [
    "## .py launch file\n",
    "\n",
    ".py launch files normaly contains a lot of logic, allowing it to create various instances of diferent programs, an example of a py file is found in the examen_bringup pkg, in [test_trayectory_controller_scara.launch.py](../../examen_bringup/launch/test_trayectory_controller_scara.launch.py).\n",
    "\n",
    "There are some definitions that are needed to creare a launch file that shows the xml of a robot and allows it to interact in a virtual environment:\n"
   ]
  },
  {
   "cell_type": "markdown",
   "metadata": {},
   "source": [
    "### Gazebo\n",
    "\n",
    "If you want to test your robot in a virtual environment, a simulator may be needed, in this case, gazebo is the solution:\n",
    "\n",
    "To setup a gazebo environment ready for ros2, you need to add the next lines at the launch file\n",
    "\n",
    "```python\n",
    "\n",
    "world = os.path.join(get_package_share_directory('package-name'),'worlds','world-name')\n",
    "\n",
    "\n",
    "gazebo = IncludeLaunchDescription(\n",
    "                PythonLaunchDescriptionSource([os.path.join(\n",
    "                    get_package_share_directory('gazebo_ros'), 'launch'), '/gazebo.launch.py']),launch_arguments={'world': world}.items())\n",
    "\n",
    "```\n",
    "\n",
    "This line of code creates an *IncludeLaunchDescription* object that will be used in the launch description object at the end of the description file to launch an instance of gazebo ready to work with ros2, in a nutshell, it will run this command in the terminal, running a launch file in the gazebo_ros pkg with the parameters 'world' as a filepath: \n",
    "\n",
    "```bash\n",
    "\n",
    "ros2 launch gazebo_ros gazebo.launch.py 'world:=package-name/worlds/world-name'\n",
    "\n",
    "```\n"
   ]
  },
  {
   "cell_type": "markdown",
   "metadata": {},
   "source": [
    "### Rviz\n",
    "\n",
    "Rviz is a topic visualizer, usefull for visualizing data from sensors.\n",
    "\n",
    "THis are the basic python lines to get rviz running\n",
    "\n",
    "```python\n",
    "\n",
    "rviz_config_path = os.path.join(get_package_share_path('package-name'),'rviz','omni_velocity_rviz.rviz')\n",
    "\n",
    "config_arg = DeclareLaunchArgument(name = 'rvizconfig', default_value = rviz_config_path)\n",
    "\n",
    "rviz2_node = Node(\n",
    "    package=\"rviz2\",\n",
    "    executable=\"rviz2\",\n",
    "    arguments=['-d', rviz_config_path])\n",
    "\n",
    "```\n",
    "\n",
    "This line of code creates a *Node* object of the rviz2 executable and adds to it a configuration file as arguments, it also can be created in the terminal with the next line:\n",
    "\n",
    "```bash\n",
    "os2 run rviz2 rviz2 -d package-name/rviz/omni_velocity_rviz.rviz\n",
    "```"
   ]
  },
  {
   "cell_type": "markdown",
   "metadata": {},
   "source": [
    "### Robot state publisher\n",
    "\n",
    "The robot state publisher is a node in charge of publishing the urdf of a robot into a topic, allowing independent programs like rviz to create the robot, it is also used by the [SpawnEntity](#spawn-entity) node for gazebo.\n",
    "\n",
    "```python\n",
    "\n",
    "urdf_path = os.path.join(get_package_share_path('package-name'),'urdf','omni_velocity_controller.xacro')\n",
    "\n",
    "robot_description = ParameterValue(Command(['xacro ', urdf_path]), value_type=str)\n",
    "\n",
    "node_robot_state_publisher = Node(\n",
    "        package='robot_state_publisher',\n",
    "        executable='robot_state_publisher',\n",
    "        output='screen',\n",
    "        parameters=[{'robot_description':robot_description}]\n",
    "    )\n",
    "\n",
    "```\n",
    "\n",
    "This lines of code extract the urdf from a file given a path, then it calls the xacro function with the urdf as argument and returns it as a string, to finally create a node of the robot_state_publisher file from the robot_state_publisher package with the xacro as a parameter.\n",
    "\n",
    "It is also posible to use de terminal to run this node:\n",
    "\n",
    "```bash\n",
    "ros2 run robot_state_publisher robot_state_publisher src/package-name/urdf/fullxacro.xacro \n",
    "```\n"
   ]
  },
  {
   "cell_type": "markdown",
   "metadata": {},
   "source": [
    "### Spawn entity\n",
    "\n",
    "The Spawn_entíty is a node in charge of taking the robot description published in a topic (in this case, by the [robot-state-publisher](#robot-state-publisher)) and show it in gazebo.\n",
    "\n",
    "```python\n",
    "\n",
    "spawn_entity = Node(package='gazebo_ros', executable='spawn_entity.py',\n",
    "                    arguments=['-topic', 'robot_description',\n",
    "                                '-entity', 'omni'],\n",
    "                    output='screen')\n",
    "\n",
    "```\n",
    "\n",
    "This line of code creates a node of the spawn_entity.py file in the gazebo_ros package, and adds as arguments the topic to get the urdf from, and the entity name  \n",
    "\n",
    "The code that represents this line of code can be seen below:\n",
    "\n",
    "```bash\n",
    "ros2 run gazebo_ros spawn_entity.py -topic robot_description -entity omni_bot\n",
    "```"
   ]
  },
  {
   "cell_type": "markdown",
   "metadata": {},
   "source": [
    "### Ros2 controlers\n",
    "\n",
    "```bash\n",
    "ros2 run gazebo_ros spawn_entity.py -topic robot_description -entity omni_bot\n",
    "```"
   ]
  },
  {
   "cell_type": "markdown",
   "metadata": {},
   "source": [
    "### LaunchDescription"
   ]
  }
 ],
 "metadata": {
  "language_info": {
   "name": "python"
  }
 },
 "nbformat": 4,
 "nbformat_minor": 2
}
