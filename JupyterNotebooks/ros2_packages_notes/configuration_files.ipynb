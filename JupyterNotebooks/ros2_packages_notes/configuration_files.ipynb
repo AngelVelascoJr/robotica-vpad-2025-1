{
 "cells": [
  {
   "cell_type": "markdown",
   "metadata": {},
   "source": [
    "# Configuration (.yaml) files"
   ]
  },
  {
   "cell_type": "markdown",
   "metadata": {},
   "source": [
    "Configuration files are useful for loading diferent parameters into a ros2 aplication.\n",
    "\n",
    "![Imagen1](configuration_files_images/yaml_file_example.png)"
   ]
  },
  {
   "cell_type": "markdown",
   "metadata": {},
   "source": [
    "In this case, they are specialy usefull for loading the configuration needed for the different control plugins used in the robot description file (urdf)\n",
    "\n",
    "\n",
    "![Image2](configuration_files_images/yaml_in_urdf.png)"
   ]
  }
 ],
 "metadata": {
  "language_info": {
   "name": "python"
  }
 },
 "nbformat": 4,
 "nbformat_minor": 2
}
